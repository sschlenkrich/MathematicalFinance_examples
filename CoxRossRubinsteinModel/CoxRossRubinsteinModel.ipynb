{
 "metadata": {
  "language_info": {
   "codemirror_mode": {
    "name": "ipython",
    "version": 3
   },
   "file_extension": ".py",
   "mimetype": "text/x-python",
   "name": "python",
   "nbconvert_exporter": "python",
   "pygments_lexer": "ipython3",
   "version": "3.7.9"
  },
  "orig_nbformat": 2,
  "kernelspec": {
   "name": "python3",
   "display_name": "Python 3.7.9 64-bit ('Python3.7': conda)"
  },
  "interpreter": {
   "hash": "af98fb13c0682ca4fe3350401d42f2a404b34a8b53a566210d6d775d501366cd"
  }
 },
 "nbformat": 4,
 "nbformat_minor": 2,
 "cells": [
  {
   "cell_type": "markdown",
   "source": [
    "# Cox-Ross-Rubinstein Model"
   ],
   "metadata": {}
  },
  {
   "cell_type": "code",
   "execution_count": null,
   "source": [
    "import numpy as np\r\n",
    "from scipy.stats import lognorm\r\n",
    "#\r\n",
    "from plotly.subplots import make_subplots\r\n",
    "import plotly.graph_objects as go\r\n",
    "import plotly.express as px"
   ],
   "outputs": [],
   "metadata": {}
  },
  {
   "cell_type": "code",
   "execution_count": null,
   "source": [
    "class CoxRossRubinsteinModel:\r\n",
    "\r\n",
    "    def __init__(self, S0, r, d, u, T, N):\r\n",
    "        self.S0 = S0  # asset value at t=0\r\n",
    "        self.r  = r   # constant risk-free rate\r\n",
    "        self.d  = d   # relative down move\r\n",
    "        self.u  = u   # relative up move\r\n",
    "        self.T  = T   # terminal time\r\n",
    "        self.N  = N   # number of time steps from 0 to T\r\n",
    "        #\r\n",
    "        self.times = np.linspace(0.0, self.T, self.N+1)\r\n",
    "        self.gridPoints = [ np.array([ 1.0 ]) ]\r\n",
    "        for k in range(1,self.N+1):\r\n",
    "            self.gridPoints.append(np.array([ (1+d)**(k-i) * (1+u)**i for i in range(k+1) ]))\r\n",
    "\r\n",
    "    def moves(self, depth=None):\r\n",
    "        if depth == None:\r\n",
    "            depth = self.N\r\n",
    "        if depth == 1:\r\n",
    "            return np.array([ [ self.d ], [ self.u ] ])\r\n",
    "        subTree = self.moves(depth-1)\r\n",
    "        D = np.append( self.d * np.ones([subTree.shape[0],1]), subTree, axis=1)\r\n",
    "        U = np.append( self.u * np.ones([subTree.shape[0],1]), subTree, axis=1)\r\n",
    "        return np.append(D, U, axis=0)\r\n",
    "    \r\n",
    "    def paths(self):\r\n",
    "        m = self.moves()\r\n",
    "        p = np.ones([m.shape[0], m.shape[1]+1])\r\n",
    "        for k in range(self.N):\r\n",
    "            p[:,k+1] = p[:,k] * (1+m[:,k])\r\n",
    "        return p\r\n",
    "\r\n",
    "    def blackScholesParameters(self):\r\n",
    "        \"\"\"Derive approximate Black Scholes parameters\"\"\"\r\n",
    "        continuousRate = np.log(1+self.r) * self.N / self.T\r\n",
    "        # there is a priori no guarantee that our tree is symmetric\r\n",
    "        sigma_d = -np.log(1+self.d) * np.sqrt(self.N / self.T)\r\n",
    "        sigma_u =  np.log(1+self.u) * np.sqrt(self.N / self.T)\r\n",
    "        averageSigma = np.sqrt(sigma_d * sigma_u)\r\n",
    "        return (continuousRate, averageSigma)\r\n",
    "\r\n",
    "    def blackScholesPdf(self, S):\r\n",
    "        \"\"\"Calculate the BS pdf function\"\"\"\r\n",
    "        r, sigma = self.blackScholesParameters()\r\n",
    "        return lognorm.pdf(S, sigma, r*self.T)\r\n",
    "\r\n",
    "\r\n",
    "    def plot(self, withDensity=False):\r\n",
    "        fig = make_subplots(rows=1, cols=2, shared_xaxes=True, vertical_spacing=0.02)\r\n",
    "        fig.update_layout(\r\n",
    "            autosize=False,\r\n",
    "            width=800,\r\n",
    "            height=500,\r\n",
    "        )\r\n",
    "        #\r\n",
    "        paths_ = self.paths()\r\n",
    "        for p in paths_:\r\n",
    "            fig.add_trace(go.Scatter(x=self.times, y=p, mode='lines', line=dict(width=1, color='Blue')),\r\n",
    "                row=1, col=1)\r\n",
    "        #\r\n",
    "        for t, points in zip(self.times, self.gridPoints):\r\n",
    "            fig.add_trace(go.Scatter(x=t*np.ones(points.shape), y=points, mode='markers', marker=dict(size=5, color='Red')),\r\n",
    "                row=1, col=1)\r\n",
    "        #\r\n",
    "        if withDensity:\r\n",
    "            # only works well for symmetric tree and with zero r\r\n",
    "            fig.add_trace(go.Histogram(y=paths_[:,-1], histnorm='probability density', nbinsy=self.N-1), row=1, col=2)\r\n",
    "            #\r\n",
    "            r, sigma = self.blackScholesParameters()\r\n",
    "            S = np.exp(np.linspace(-3*sigma*np.sqrt(self.T), 3*sigma*np.sqrt(self.T), 100))\r\n",
    "            pdf = self.blackScholesPdf(S)\r\n",
    "            fig.add_trace(go.Scatter(y=S, x=pdf), row=1, col=2)\r\n",
    "        else:\r\n",
    "            fig.add_trace(go.Histogram(y=paths_[:,-1], histnorm='probability'), row=1, col=2)\r\n",
    "        fig.update_layout(showlegend=False)\r\n",
    "        fig.show()\r\n",
    "\r\n",
    "m = CoxRossRubinsteinModel(100, 0.00, -0.05, 0.10, 1.0, 10)"
   ],
   "outputs": [],
   "metadata": {}
  },
  {
   "cell_type": "code",
   "execution_count": null,
   "source": [
    "CoxRossRubinsteinModel(100, 0.01, -0.05, 0.10, 1.0, 10).plot(withDensity=False)"
   ],
   "outputs": [],
   "metadata": {}
  },
  {
   "cell_type": "code",
   "execution_count": null,
   "source": [
    "CoxRossRubinsteinModel(100, 0.00, -0.05, 0.05, 1.0, 10).plot(withDensity=True)"
   ],
   "outputs": [],
   "metadata": {}
  },
  {
   "cell_type": "code",
   "execution_count": null,
   "source": [],
   "outputs": [],
   "metadata": {}
  }
 ]
}