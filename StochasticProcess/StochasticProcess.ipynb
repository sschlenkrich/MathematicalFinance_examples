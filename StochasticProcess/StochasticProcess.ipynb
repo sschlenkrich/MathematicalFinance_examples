{
 "cells": [
  {
   "cell_type": "code",
   "execution_count": null,
   "metadata": {},
   "outputs": [],
   "source": [
    "import numpy as np\n",
    "from scipy.interpolate import interp1d\n",
    "\n",
    "import matplotlib.pyplot as plt"
   ]
  },
  {
   "cell_type": "markdown",
   "metadata": {},
   "source": [
    "# Stochastic Process Examples"
   ]
  },
  {
   "cell_type": "code",
   "execution_count": null,
   "metadata": {},
   "outputs": [],
   "source": [
    "t = np.linspace(0,5,51)\n",
    "\n",
    "plt.figure(figsize=(4,4))\n",
    "plt.plot(t, np.exp(t))\n",
    "plt.xlabel('$t$')\n",
    "plt.ylabel(r'$X\\left(\\omega\\right)(t)$')\n",
    "plt.title(r'$X(\\omega)\\equiv e^t$')\n",
    "plt.tight_layout()\n",
    "#plt.show()\n",
    "plt.savefig('StochasticProcess_a.png')"
   ]
  },
  {
   "cell_type": "code",
   "execution_count": null,
   "metadata": {},
   "outputs": [],
   "source": [
    "plt.figure(figsize=(4,4))\n",
    "for n in range(5):\n",
    "    plt.plot(t, np.sin(n/5.0*np.pi*t))\n",
    "plt.xlabel('$t$')\n",
    "plt.ylabel(r'$X\\left(\\omega\\right)(t)$')\n",
    "plt.title(r'$X(\\omega) = sin(n \\pi t / 5)$, for $\\omega\\in \\left\\{1,2,\\ldots \\right\\}$')\n",
    "plt.tight_layout()\n",
    "#plt.show()\n",
    "plt.savefig('StochasticProcess_b.png')"
   ]
  },
  {
   "cell_type": "code",
   "execution_count": null,
   "metadata": {},
   "outputs": [],
   "source": [
    "plt.figure(figsize=(4,4))\n",
    "for n in range(5):\n",
    "    omega = np.random.uniform()\n",
    "    tau = 5.0 * omega\n",
    "    plt.plot(t, (t>tau))\n",
    "plt.xlabel('$t$')\n",
    "plt.ylabel(r'$X\\left(\\omega\\right)(t)$')\n",
    "plt.title(r'$X(\\omega) = \\mathbb{1}_{\\left\\{t>\\omega \\right\\}} $ for $\\omega\\in \\mathbb{R}$')\n",
    "plt.tight_layout()\n",
    "#plt.show()\n",
    "plt.savefig('StochasticProcess_c.png')"
   ]
  },
  {
   "cell_type": "code",
   "execution_count": null,
   "metadata": {},
   "outputs": [],
   "source": [
    "plt.figure(figsize=(4,4))\n",
    "for n in range(5):\n",
    "    omega = np.random.normal(scale=1.0/t[-1], size=t.shape).cumsum()\n",
    "    plt.plot(t, omega)\n",
    "plt.xlabel('$t$')\n",
    "plt.ylabel(r'$X\\left(\\omega\\right)(t)$')\n",
    "plt.title(r'$X(\\omega) = B(\\omega)$ (Brownian motion)')\n",
    "plt.tight_layout()\n",
    "#plt.show()\n",
    "plt.savefig('StochasticProcess_d.png')"
   ]
  },
  {
   "cell_type": "markdown",
   "metadata": {},
   "source": [
    "# Brownian Motion Integrals"
   ]
  },
  {
   "cell_type": "code",
   "execution_count": null,
   "metadata": {},
   "outputs": [],
   "source": [
    "def integral(Y, X, a, b, n, rho):\n",
    "    t = np.linspace(a, b, 2**n + 1)\n",
    "    X_ = X(t)\n",
    "    Y_ = Y(t)\n",
    "    sums = (rho*Y_[1:] + (1-rho)*Y_[:-1]) * (X_[1:]-X_[:-1])\n",
    "    return np.sum(sums)"
   ]
  },
  {
   "cell_type": "code",
   "execution_count": null,
   "metadata": {},
   "outputs": [],
   "source": [
    "T = 5.0\n",
    "nMax = 16\n",
    "# Brownian motion X = B\n",
    "N = 2**nMax\n",
    "t = np.linspace(0.0, T, N+1)\n",
    "X_ = np.concatenate([[0.0], (np.random.normal(size=N) * np.sqrt(T/N)).cumsum()])\n",
    "X = interp1d(t,X_,kind='linear')\n",
    "# integration for different partitions and rho\n",
    "n_ = np.array(range(1,nMax+1))\n",
    "S_0  = np.array([ integral(X, X, 0.0, 5.0, k, rho=0.0) for k in n_ ])  # Ito\n",
    "S_05 = np.array([ integral(X, X, 0.0, 5.0, k, rho=0.5) for k in n_ ])  # Stratonovich\n",
    "S_1  = np.array([ integral(X, X, 0.0, 5.0, k, rho=1.0) for k in n_ ])\n",
    "# plotting\n",
    "plt.figure(figsize=(6,4))\n",
    "plt.plot(n_, S_1,  label=r'$\\xi^n_k = t^n_{k}$')\n",
    "plt.plot(n_, S_05, label=r'$\\xi^n_k = \\frac{1}{2}\\left(t^n_{k-1} + t^n_{k}\\right)$')\n",
    "plt.plot(n_, S_0,  label=r'$\\xi^n_k = t^n_{k-1}$')\n",
    "plt.legend()\n",
    "plt.xlabel(r'$p\\mapsto n = 2^p$ for partition $\\Pi^{n}$')\n",
    "plt.ylabel('RS sum')\n",
    "plt.tight_layout()\n",
    "#plt.show()\n",
    "plt.savefig('StochasticIntegral.png')"
   ]
  },
  {
   "cell_type": "markdown",
   "metadata": {},
   "source": [
    "# Total and Quadratic Variation of Brownian Motion"
   ]
  },
  {
   "cell_type": "code",
   "execution_count": null,
   "metadata": {},
   "outputs": [],
   "source": [
    "def variation(X, a, b, n, p):\n",
    "    t = np.linspace(a, b, 2**n + 1)\n",
    "    X_ = X(t)\n",
    "    return np.sum(np.abs(X_[1:] - X_[:-1])**p)"
   ]
  },
  {
   "cell_type": "code",
   "execution_count": null,
   "metadata": {},
   "outputs": [],
   "source": [
    "tV = np.array([ variation(X, 0.0, 5.0, k, 1) for k in n_ ])\n",
    "qV = np.array([ variation(X, 0.0, 5.0, k, 2) for k in n_ ])\n",
    "# total variation\n",
    "plt.figure(figsize=(6,4))\n",
    "plt.plot(n_, tV,  label=r'$V_T \\left(X, \\Pi^{n}\\right)$')\n",
    "plt.legend()\n",
    "plt.xlabel(r'$p\\mapsto n = 2^p$ for partition $\\Pi^{n}$')\n",
    "plt.ylabel('total variation')\n",
    "plt.tight_layout()\n",
    "plt.savefig('TotalVariation.png')\n",
    "# quadratic variation\n",
    "plt.figure(figsize=(6,4))\n",
    "plt.plot(n_, qV,  label=r'$V_T^2 \\left(X, \\Pi^{n}\\right)$')\n",
    "plt.legend()\n",
    "plt.xlabel(r'$p\\mapsto n = 2^p$ for partition $\\Pi^{n}$')\n",
    "plt.ylabel('quadratic variation')\n",
    "plt.tight_layout()\n",
    "#plt.show()\n",
    "plt.savefig('QuadraticVariation.png')"
   ]
  }
 ],
 "metadata": {
  "interpreter": {
   "hash": "af98fb13c0682ca4fe3350401d42f2a404b34a8b53a566210d6d775d501366cd"
  },
  "kernelspec": {
   "display_name": "Python 3.7.9 64-bit ('Python3.7': conda)",
   "name": "python3"
  },
  "language_info": {
   "codemirror_mode": {
    "name": "ipython",
    "version": 3
   },
   "file_extension": ".py",
   "mimetype": "text/x-python",
   "name": "python",
   "nbconvert_exporter": "python",
   "pygments_lexer": "ipython3",
   "version": "3.7.9"
  },
  "orig_nbformat": 4
 },
 "nbformat": 4,
 "nbformat_minor": 2
}
