{
 "cells": [
  {
   "cell_type": "markdown",
   "source": [
    "# We plot some utility function"
   ],
   "metadata": {}
  },
  {
   "cell_type": "code",
   "execution_count": null,
   "source": [
    "import numpy as np\r\n",
    "import matplotlib.pyplot as plt"
   ],
   "outputs": [],
   "metadata": {}
  },
  {
   "cell_type": "code",
   "execution_count": null,
   "source": [
    "x = np.linspace(0.0, 1.0, 101)\r\n",
    "f = lambda a : (1 - np.exp(-a*x))/a"
   ],
   "outputs": [],
   "metadata": {}
  },
  {
   "cell_type": "code",
   "execution_count": null,
   "source": [
    "plt.figure(figsize=(6,4))\r\n",
    "plt.plot(x,f(1.0), label=r'$a=1$ (concave)')\r\n",
    "plt.plot(x,f(1.0e-6), label=r'$a=0$ (affine)')\r\n",
    "plt.plot(x,f(-1.0), label=r'$a=-1$ (convex)')\r\n",
    "plt.legend()\r\n",
    "plt.xlabel(r'$x$')\r\n",
    "plt.ylabel(r'$u(x)$')\r\n",
    "plt.tight_layout()\r\n",
    "plt.savefig('ExponentialUtility.png')"
   ],
   "outputs": [],
   "metadata": {}
  }
 ],
 "metadata": {
  "orig_nbformat": 4,
  "language_info": {
   "name": "python",
   "version": "3.7.9",
   "mimetype": "text/x-python",
   "codemirror_mode": {
    "name": "ipython",
    "version": 3
   },
   "pygments_lexer": "ipython3",
   "nbconvert_exporter": "python",
   "file_extension": ".py"
  },
  "kernelspec": {
   "name": "python3",
   "display_name": "Python 3.7.9 64-bit ('Python3.7': conda)"
  },
  "interpreter": {
   "hash": "af98fb13c0682ca4fe3350401d42f2a404b34a8b53a566210d6d775d501366cd"
  }
 },
 "nbformat": 4,
 "nbformat_minor": 2
}