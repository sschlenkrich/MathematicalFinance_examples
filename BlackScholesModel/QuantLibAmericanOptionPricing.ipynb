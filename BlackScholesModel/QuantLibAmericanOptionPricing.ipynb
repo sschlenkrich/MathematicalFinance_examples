{
 "cells": [
  {
   "cell_type": "markdown",
   "metadata": {},
   "source": [
    "# American Option Pricing with QuantLib\n",
    "\n",
    "In this notebok we illustrate American option pricing with QuantLib.\n",
    "\n",
    "The notebook is structured as follows.\n",
    "\n",
    "  1. Setup of market data and model.\n",
    "  2. Pricing American call and put options.\n",
    "  3. Calculation of continuation and stopping region. "
   ]
  },
  {
   "cell_type": "code",
   "execution_count": null,
   "metadata": {},
   "outputs": [],
   "source": [
    "import QuantLib as ql\n",
    "import numpy as np\n",
    "import pandas as pd\n",
    "import plotly.graph_objects as go"
   ]
  },
  {
   "cell_type": "markdown",
   "metadata": {},
   "source": [
    "## Market Data and Model Setup\n",
    "\n",
    "We set up simple constant term structures for risk-free rate and volatility. As inputs we use the parameters from our Black-Scholes example."
   ]
  },
  {
   "cell_type": "code",
   "execution_count": null,
   "metadata": {},
   "outputs": [],
   "source": [
    "r = 0.0500\n",
    "sigma = 0.30\n",
    "S0 = 1.0"
   ]
  },
  {
   "cell_type": "markdown",
   "metadata": {},
   "source": [
    "### YieldTermStructure, BlackVolTermStructure and BlackScholesProcess"
   ]
  },
  {
   "cell_type": "code",
   "execution_count": null,
   "metadata": {},
   "outputs": [],
   "source": [
    "discountYts  = ql.FlatForward(0, ql.NullCalendar(), r, ql.Actual365Fixed())\n",
    "discountYtsH = ql.YieldTermStructureHandle(discountYts)\n",
    "#\n",
    "volTs  = ql.BlackConstantVol(0, ql.NullCalendar(), sigma, ql.Actual365Fixed())\n",
    "volTsH = ql.BlackVolTermStructureHandle(volTs)\n",
    "#\n",
    "asset = ql.QuoteHandle(ql.SimpleQuote(S0))\n",
    "process = ql.BlackScholesProcess(asset, discountYtsH, volTsH)"
   ]
  },
  {
   "cell_type": "markdown",
   "metadata": {},
   "source": [
    "## American Option Pricing\n",
    "\n",
    "In this section we set up the pricing for American call and put options and compare results to the corresponding European option prices."
   ]
  },
  {
   "cell_type": "code",
   "execution_count": null,
   "metadata": {},
   "outputs": [],
   "source": [
    "today = ql.Settings.getEvaluationDate(ql.Settings.instance())\n",
    "print(today)\n",
    "#\n",
    "T = 1.4\n",
    "numberOfDays = int(np.round(T * 365))\n",
    "print(numberOfDays)\n",
    "#\n",
    "expiryDate = today + numberOfDays\n",
    "print(expiryDate)"
   ]
  },
  {
   "cell_type": "markdown",
   "metadata": {},
   "source": [
    "European and American options in QuantLib are distinguished by the Exercise object."
   ]
  },
  {
   "cell_type": "code",
   "execution_count": null,
   "metadata": {},
   "outputs": [],
   "source": [
    "europeanExercise = ql.EuropeanExercise(expiryDate)\n",
    "americanExercise = ql.AmericanExercise(today, expiryDate)"
   ]
  },
  {
   "cell_type": "markdown",
   "metadata": {},
   "source": [
    "### Payoffs"
   ]
  },
  {
   "cell_type": "code",
   "execution_count": null,
   "metadata": {},
   "outputs": [],
   "source": [
    "putStrikes  = [ 0.10, 0.30, 0.50, 0.70, 0.90, 1.10, 1.30, 1.50, 1.70, 1.90 ]\n",
    "callStrikes = [ 0.10, 0.30, 0.50, 0.70, 0.90, 1.10, 1.30, 1.50, 1.70, 1.90 ]\n",
    "#\n",
    "putPayoffs  = [ ql.PlainVanillaPayoff(ql.Option.Put,K)  for K in putStrikes  ]\n",
    "callPayoffs = [ ql.PlainVanillaPayoff(ql.Option.Call,K) for K in callStrikes ]"
   ]
  },
  {
   "cell_type": "markdown",
   "metadata": {},
   "source": [
    "### Instruments"
   ]
  },
  {
   "cell_type": "code",
   "execution_count": null,
   "metadata": {},
   "outputs": [],
   "source": [
    "europeanPuts  = [ ql.EuropeanOption(p,europeanExercise) for p in putPayoffs  ]\n",
    "europeanCalls = [ ql.EuropeanOption(p,europeanExercise) for p in callPayoffs ]\n",
    "#\n",
    "americanPuts  = [ ql.VanillaOption(p,americanExercise) for p in putPayoffs  ]\n",
    "americanCalls = [ ql.VanillaOption(p,americanExercise) for p in callPayoffs ]"
   ]
  },
  {
   "cell_type": "markdown",
   "metadata": {},
   "source": [
    "### CRR Model Pricing\n",
    "\n",
    "The BinomialCRRVanillaEngine can handle European and American exercise."
   ]
  },
  {
   "cell_type": "code",
   "execution_count": null,
   "metadata": {},
   "outputs": [],
   "source": [
    "N = 10\n",
    "crrEngine = ql.BinomialCRRVanillaEngine(process, N)"
   ]
  },
  {
   "cell_type": "code",
   "execution_count": null,
   "metadata": {},
   "outputs": [],
   "source": [
    "for i in europeanPuts + europeanCalls + americanPuts + americanCalls:\n",
    "    i.setPricingEngine(crrEngine)"
   ]
  },
  {
   "cell_type": "markdown",
   "metadata": {},
   "source": [
    "We calculate all the prices."
   ]
  },
  {
   "cell_type": "code",
   "execution_count": null,
   "metadata": {},
   "outputs": [],
   "source": [
    "europeanPutTable = pd.DataFrame(columns=('Strike', 'Price', 'Delta', 'Gamma', 'Theta'))\n",
    "for K, i in zip(putStrikes, europeanPuts):\n",
    "    res = ( K, i.NPV(), i.delta(), i.gamma(), i.theta() )\n",
    "    europeanPutTable = europeanPutTable.append({ c : v for c,v in zip(europeanPutTable.columns,res) }  , ignore_index=True)\n",
    "print('European Puts:')\n",
    "print(europeanPutTable)\n",
    "#\n",
    "europeanCallTable = pd.DataFrame(columns=('Strike', 'Price', 'Delta', 'Gamma', 'Theta'))\n",
    "for K, i in zip(callStrikes, europeanCalls):\n",
    "    res = ( K, i.NPV(), i.delta(), i.gamma(), i.theta() )\n",
    "    europeanCallTable = europeanCallTable.append({ c : v for c,v in zip(europeanCallTable.columns,res) }  , ignore_index=True)\n",
    "print('European Calls:')\n",
    "print(europeanCallTable)\n",
    "#\n",
    "americanPutTable = pd.DataFrame(columns=('Strike', 'Price', 'Delta', 'Gamma', 'Theta'))\n",
    "for K, i in zip(putStrikes, americanPuts):\n",
    "    res = ( K, i.NPV(), i.delta(), i.gamma(), i.theta() )\n",
    "    americanPutTable = americanPutTable.append({ c : v for c,v in zip(americanPutTable.columns,res) }  , ignore_index=True)\n",
    "print('American Puts:')\n",
    "print(americanPutTable)\n",
    "#\n",
    "americanCallTable = pd.DataFrame(columns=('Strike', 'Price', 'Delta', 'Gamma', 'Theta'))\n",
    "for K, i in zip(callStrikes, americanCalls):\n",
    "    res = ( K, i.NPV(), i.delta(), i.gamma(), i.theta() )\n",
    "    americanCallTable = americanCallTable.append({ c : v for c,v in zip(americanCallTable.columns,res) }  , ignore_index=True)\n",
    "print('American Calls:')\n",
    "print(americanCallTable)\n"
   ]
  },
  {
   "cell_type": "code",
   "execution_count": null,
   "metadata": {},
   "outputs": [],
   "source": [
    "def plotResults(resString):\n",
    "    fig = go.Figure()\n",
    "    fig.add_trace(go.Scatter(x=putStrikes,  y=europeanPutTable[resString],   name='European put',  line=dict(color='royalblue', dash=None) ))\n",
    "    fig.add_trace(go.Scatter(x=callStrikes, y=europeanCallTable[resString],  name='European Call',  line=dict(color='firebrick', dash=None) ))\n",
    "    fig.add_trace(go.Scatter(x=putStrikes,  y=americanPutTable[resString],  name='American Put', line=dict(color='royalblue', dash='dash') ))\n",
    "    fig.add_trace(go.Scatter(x=callStrikes, y=americanCallTable[resString], name='American Call', line=dict(color='firebrick', dash='dash') ))\n",
    "    fig.update_layout(\n",
    "        title='Black-Scholes and CRR Model %s, T=%.2f' % (resString,T),\n",
    "        xaxis_title=\"Strike K\",\n",
    "        yaxis_title=resString,\n",
    "        width=600, height=400, autosize=False,\n",
    "        #margin=dict(l=65, r=50, b=65, t=90),\n",
    "    )\n",
    "    fig.show()\n",
    "    return\n",
    "\n",
    "plotResults('Price')\n",
    "plotResults('Delta')\n",
    "plotResults('Gamma')\n",
    "plotResults('Theta')"
   ]
  },
  {
   "cell_type": "markdown",
   "metadata": {},
   "source": [
    "## Continuation and Stopping Region\n",
    "\n",
    "We set up a function that calculates put option prices for given underlying and time to maturity."
   ]
  },
  {
   "cell_type": "code",
   "execution_count": null,
   "metadata": {},
   "outputs": [],
   "source": [
    "def putPrice(timeToMaturity, assetPrices, strike=1.0, N=10):\n",
    "    expiryDate = today + int(np.round(timeToMaturity * 365))\n",
    "    europeanExercise = ql.EuropeanExercise(expiryDate)\n",
    "    americanExercise = ql.AmericanExercise(today, expiryDate)\n",
    "    putPayoff        = ql.PlainVanillaPayoff(ql.Option.Put,strike)\n",
    "    europeanPut      = ql.VanillaOption(putPayoff,europeanExercise)\n",
    "    americanPut      = ql.VanillaOption(putPayoff,americanExercise)\n",
    "    S0 = ql.RelinkableQuoteHandle(ql.SimpleQuote(strike))\n",
    "    process = ql.BlackScholesProcess(S0, discountYtsH, volTsH)\n",
    "    engine = ql.BinomialCRRVanillaEngine(process, N)\n",
    "    europeanPut.setPricingEngine(engine)\n",
    "    americanPut.setPricingEngine(engine)\n",
    "    #\n",
    "    europeanPrices = np.zeros(len(assetPrices))\n",
    "    americanPrices = np.zeros(len(assetPrices))\n",
    "    for k, S in enumerate(assetPrices):\n",
    "        S0.linkTo(ql.SimpleQuote(S))\n",
    "        europeanPrices[k] = europeanPut.NPV()\n",
    "        americanPrices[k] = americanPut.NPV()\n",
    "    intrinsicValue = np.maximum(strike - assetPrices, 0.0)\n",
    "    return americanPrices, europeanPrices, intrinsicValue\n",
    "\n",
    "x = np.linspace(0.40, 1.50, 50)\n",
    "T = np.linspace(0.10, 1.40, 28)\n",
    "\n",
    "U = np.array([ putPrice(t, x, N=max(2,int(np.round(10*t))))[0] for t in T ])\n",
    "H = np.array([ putPrice(t, x, N=max(2,int(np.round(10*t))))[2] for t in T ])\n",
    "\n",
    "t = T[-1] - T # T is time to maturity"
   ]
  },
  {
   "cell_type": "code",
   "execution_count": null,
   "metadata": {},
   "outputs": [],
   "source": [
    "fig = go.Figure(data=[\n",
    "    go.Surface(x=x, y=t, z=U),\n",
    "    go.Surface(x=x, y=t, z=H, colorscale='Greys'),\n",
    "])\n",
    "fig.update_layout(\n",
    "    title='CRR American Put Price',\n",
    "    scene = dict(\n",
    "        xaxis = dict(\n",
    "            title = 'x',\n",
    "        ),\n",
    "        yaxis = dict(\n",
    "            title = 't',\n",
    "        ),\n",
    "        zaxis = dict(\n",
    "            title = 'Price',\n",
    "        ),\n",
    "    ),\n",
    "    width=1200, height=800, autosize=False,\n",
    "    margin=dict(l=65, r=50, b=65, t=90),\n",
    ")\n",
    "fig.show()"
   ]
  }
 ],
 "metadata": {
  "interpreter": {
   "hash": "af98fb13c0682ca4fe3350401d42f2a404b34a8b53a566210d6d775d501366cd"
  },
  "kernelspec": {
   "display_name": "Python 3.7.9 64-bit ('Python3.7': conda)",
   "name": "python3"
  },
  "language_info": {
   "codemirror_mode": {
    "name": "ipython",
    "version": 3
   },
   "file_extension": ".py",
   "mimetype": "text/x-python",
   "name": "python",
   "nbconvert_exporter": "python",
   "pygments_lexer": "ipython3",
   "version": "3.7.9"
  },
  "orig_nbformat": 4
 },
 "nbformat": 4,
 "nbformat_minor": 2
}
