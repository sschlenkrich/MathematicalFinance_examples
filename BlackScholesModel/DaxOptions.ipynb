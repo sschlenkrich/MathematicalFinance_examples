{
 "cells": [
  {
   "cell_type": "markdown",
   "metadata": {},
   "source": [
    "# Dax Options and Implied Volatilities\n",
    "\n",
    "In this notebook we analyse DAX option prices."
   ]
  },
  {
   "cell_type": "code",
   "execution_count": null,
   "metadata": {},
   "outputs": [],
   "source": [
    "# Make sure you have all relevant Python packages.\n",
    "# Missing packages can be installed with 'conda install ...' or 'pip install ...'\n",
    "\n",
    "import numpy as np\n",
    "import pandas as pd\n",
    "from scipy.interpolate import CubicSpline\n",
    "import plotly.express as px\n",
    "import plotly.graph_objects as go\n",
    "\n",
    "import matplotlib.pyplot as plt # optional, if Plotly does not work\n",
    "\n",
    "import QuantLib as ql"
   ]
  },
  {
   "cell_type": "markdown",
   "metadata": {},
   "source": [
    "## Data preparation\n",
    "\n",
    "Dax option data is published by Eurex, see e.g. https://www.eurex.com/ex-en/markets/idx/dax/70044!quotesSingleViewOption?callPut=Call&maturityDate=202212.\n",
    "\n",
    "We read the option data from CSV file. The first 6 lines contain meta information (and comments) about dates and DAX underlying price. The remaining lines contain the actual option price data."
   ]
  },
  {
   "cell_type": "code",
   "execution_count": null,
   "metadata": {},
   "outputs": [],
   "source": [
    "header = pd.read_csv('DaxOptions.csv', nrows=4)\n",
    "header"
   ]
  },
  {
   "cell_type": "code",
   "execution_count": null,
   "metadata": {},
   "outputs": [],
   "source": [
    "data = pd.read_csv('DaxOptions.csv', skiprows=6)\n",
    "data"
   ]
  },
  {
   "cell_type": "code",
   "execution_count": null,
   "metadata": {},
   "outputs": [],
   "source": [
    "fig = go.Figure()\n",
    "fig.update_layout(autosize=False, width=800, height=600, title='Option prices', xaxis_title='Strike price', yaxis_title='Price')\n",
    "fig.add_scatter(x=data['Strike_Price'], y=data['Call_Ask'], name='Call_Ask', line=dict(color='darkred'),   mode='lines')\n",
    "fig.add_scatter(x=data['Strike_Price'], y=data['Call_Bid'], name='Call_Bid', line=dict(color='red'),       mode='lines')\n",
    "fig.add_scatter(x=data['Strike_Price'], y=data['Put_Ask'],  name='Put_Ask',  line=dict(color='blue'),      mode='lines')\n",
    "fig.add_scatter(x=data['Strike_Price'], y=data['Put_Bid'],  name='Put_Bid',  line=dict(color='lightblue'), mode='lines')\n",
    "fig.show()"
   ]
  },
  {
   "cell_type": "markdown",
   "metadata": {},
   "source": [
    "If Plotly figures do not work in your environment you can uncomment below code and use Matplotlib for plotting."
   ]
  },
  {
   "cell_type": "code",
   "execution_count": null,
   "metadata": {},
   "outputs": [],
   "source": [
    "# plt.figure(figsize=(12,8))\n",
    "# plt.title('Option prices')\n",
    "# plt.xlabel('Strike price')\n",
    "# plt.ylabel('Price')\n",
    "# plt.plot(data['Strike_Price'], data['Call_Ask'], 'r-',  label='Call_Ask')\n",
    "# plt.plot(data['Strike_Price'], data['Call_Bid'], 'r--', label='Call_Bid')\n",
    "# plt.plot(data['Strike_Price'], data['Put_Ask'],  'b-',  label='Put_Ask')\n",
    "# plt.plot(data['Strike_Price'], data['Put_Bid'],  'b--', label='Put_Bid')\n",
    "# plt.legend()\n",
    "# plt.show()"
   ]
  },
  {
   "cell_type": "markdown",
   "metadata": {},
   "source": [
    "The data contain bid/ask prices for puts and calls for the Dec-22 expiry. This expiry represents the third Friday in December 2022, which is December 10, 2022.\n",
    "\n",
    "Trade date is December 28, 2021 and initial DAX level ($S_0$) at 15.948,77. All prices are denominated in EUR.\n",
    "\n",
    "We can also analyse bid-ask spreads of option prices:"
   ]
  },
  {
   "cell_type": "code",
   "execution_count": null,
   "metadata": {},
   "outputs": [],
   "source": [
    "fig = go.Figure()\n",
    "fig.update_layout(autosize=False, width=800, height=600, title='Bid/ask spreads', xaxis_title='Strike price', yaxis_title='Price')\n",
    "fig.add_scatter(x=data['Strike_Price'], y=data['Call_Ask']-data['Call_Bid'], name='B/A Call', line=dict(color='red'),   mode='lines')\n",
    "fig.add_scatter(x=data['Strike_Price'], y=data['Put_Ask'] -data['Put_Bid'],  name='B/A Put',  line=dict(color='blue'),  mode='lines')\n",
    "fig.show()"
   ]
  },
  {
   "cell_type": "code",
   "execution_count": null,
   "metadata": {},
   "outputs": [],
   "source": [
    "# plt.figure(figsize=(12,8))\n",
    "# plt.title('Bid/ask spreads')\n",
    "# plt.xlabel('Strike price')\n",
    "# plt.ylabel('Price')\n",
    "# plt.plot(data['Strike_Price'], data['Call_Ask']-data['Call_Bid'], 'r-', label='B/A Call')\n",
    "# plt.plot(data['Strike_Price'], data['Put_Ask'] -data['Put_Bid'],  'b-', label='B/A Put')\n",
    "# plt.legend()\n",
    "# plt.show()"
   ]
  },
  {
   "cell_type": "markdown",
   "metadata": {},
   "source": [
    "This view gives some nice insights about index option trading:\n",
    "\n",
    "  - Bid/ask spreads for calls and puts are roughly comparable in the strike range from about 12.000 tro 19.000; This is probably the strike range where trading takes place.\n",
    "  - For strikes below 11.500 and above 19.000 in-the-money options (low-strike calls and high-strike puts) show increasing bid/ask spreads; prices are probably not very liquid in that strike regions.\n",
    "\n",
    "We want to analyse how above option prices translate into implied volatilities."
   ]
  },
  {
   "cell_type": "markdown",
   "metadata": {},
   "source": [
    "For risk-free rate calculation we consider mid prices. This makes things a bit simpler compared to using bid/ask for calls and puts."
   ]
  },
  {
   "cell_type": "code",
   "execution_count": null,
   "metadata": {},
   "outputs": [],
   "source": [
    "data['Call_Mid'] = 0.5 * (data['Call_Ask'] + data['Call_Bid'])\n",
    "data['Put_Mid']  = 0.5 * (data['Put_Ask']  + data['Put_Bid'])\n",
    "data"
   ]
  },
  {
   "cell_type": "markdown",
   "metadata": {},
   "source": [
    "## Calculate Forward Index and Risk-free Rate from Put-Call Parity\n",
    "\n",
    "- Consider $\\pi^C(K)$ and $\\pi^P(K)$ the (mid) call and put option price for a given strike $K$. \n",
    "- Apply put-call parity with $K_{ATM}=\\mathbb{E}^*\\left[ S_T \\right]$. How can we calculate $\\mathbb{E}^*\\left[ S_T \\right]$ model-independent from call and put option prices?\n",
    "- Use the option data to numerically compute $\\mathbb{E}^*\\left[ S_T \\right]$. Use e.g. *CubicSpline* and method *roots* from Scipy, https://docs.scipy.org/doc/scipy/reference/generated/scipy.interpolate.CubicSpline.roots.html."
   ]
  },
  {
   "cell_type": "code",
   "execution_count": null,
   "metadata": {},
   "outputs": [],
   "source": [
    "# Add forward calculation here."
   ]
  },
  {
   "cell_type": "markdown",
   "metadata": {},
   "source": [
    "Use $K_{ATM}=\\mathbb{E}^*\\left[ S_T \\right]$ to determine the effective continuous compounded risk-free rate.\n",
    "\n",
    "- Use *ql.Date* to specify trading date and expiry date, https://quantlib-python-docs.readthedocs.io/en/latest/dates.html#date\n",
    "- Use *ql.Actual365Fixed* DayCounter (https://quantlib-python-docs.readthedocs.io/en/latest/dates.html#daycounter) and method *yearFraction(d1,d2) to calculate time-to-expiry $T$ in years.\n",
    "- Finally, use $S_0$, $K_{ATM}$ and $T$ to compute risk-free rate $r$ from the martingale condition\n",
    "$$\n",
    "  S_0 = \\mathbb{E}^*\\left[ \\frac{S_T}{e^{rT}} \\right].\n",
    "$$\n"
   ]
  },
  {
   "cell_type": "code",
   "execution_count": null,
   "metadata": {},
   "outputs": [],
   "source": [
    "# Add time to expiry calculation here"
   ]
  },
  {
   "cell_type": "code",
   "execution_count": null,
   "metadata": {},
   "outputs": [],
   "source": [
    "# Add risk-free rate calculation here."
   ]
  },
  {
   "cell_type": "markdown",
   "metadata": {},
   "source": [
    "It turns out that the effective risk-free rate for Dec22 is about -15bp."
   ]
  },
  {
   "cell_type": "markdown",
   "metadata": {},
   "source": [
    "## Implied Volatility Calculation with QuantLib\n",
    "\n",
    "Calculate implied volatilities for the quoted call bid/ask and put bid/ask prices. You need to setup a couple of QuantLib objects for this step.\n",
    "\n",
    "  1.  You need a *ql.BlackScholesProcess*, https://quantlib-python-docs.readthedocs.io/en/latest/stochastic_processes.html. This takes the following inputs: \n",
    "\n",
    "      - *ql.SimpleQuote* to store market data values, and *ql.QuoteHandle* to allow for later update of quotes (not relevant for our example)\n",
    "\n",
    "      - *ql.FlatForward* to store a risk-free rate curve with (trivial) business day calendar *ql.NullCalendar* and day count convention *ql.Actual365Fixed*\n",
    "\n",
    "      - *ql.YieldTermStructureHandle* to allow for later replacement of a curve (not relevant for our example)\n",
    "\n",
    "      - *ql.BlackConstantVol* to store volatility parameter with (trivial) business day calendar *ql.NullCalendar* and day count convention *ql.Actual365Fixed*\n",
    "\n",
    "      - *ql.BlackVolTermStructureHandle*  to allow for later replacement of a volatility (not relevant for our example)\n",
    "\n",
    "  2. You need to specify the option instruments, https://quantlib-python-docs.readthedocs.io/en/latest/instruments.html#vanilla-options\n",
    "\n",
    "      - *ql.EuropeanExercise* to specify option expiry time\n",
    "      \n",
    "      - *ql.PlainVanillaPayoff* to specify call (*ql.Option.Call*) and put (*ql.Option.Put*) options for various strikes\n",
    "\n",
    "  3. Finally, you can use the *option.impliedVolatility(price, process)* method for a given *option* instrument, input *price* and Black-Scholes *process*. This step needs a little care because not all prices allow for an implied volatility calculation. This point can be handled via try/except blocks, see function *safeImpliedVolatility*.\n",
    "\n",
    "You can also follow the steps explained here:\n",
    "\n",
    "https://stackoverflow.com/questions/4891490/calculating-europeanoptionimpliedvolatility-in-quantlib-python\n"
   ]
  },
  {
   "cell_type": "code",
   "execution_count": null,
   "metadata": {},
   "outputs": [],
   "source": [
    "def safeImpliedVolatility(option, price, process):\n",
    "    try:\n",
    "        vol = option.impliedVolatility(price, process)\n",
    "    except:\n",
    "        vol = None\n",
    "    return vol"
   ]
  },
  {
   "cell_type": "code",
   "execution_count": null,
   "metadata": {},
   "outputs": [],
   "source": [
    "# Set evaluation date, setup market data and define stochastic process."
   ]
  },
  {
   "cell_type": "code",
   "execution_count": null,
   "metadata": {},
   "outputs": [],
   "source": [
    "# Setup options."
   ]
  },
  {
   "cell_type": "code",
   "execution_count": null,
   "metadata": {},
   "outputs": [],
   "source": [
    "# Calculate implied volatilities.\n",
    "# Note: If implied volatilities cannot be calculated QuantLib throws an exception. You can handle that case via try-expcept blocks in Python."
   ]
  },
  {
   "cell_type": "markdown",
   "metadata": {},
   "source": [
    "Plot implied volatilities (and bid ask spreads) for calls and puts in terms of implied volatilities."
   ]
  },
  {
   "cell_type": "code",
   "execution_count": null,
   "metadata": {},
   "outputs": [],
   "source": [
    "# Adapt the option price plots to plot the resulting implied volatilities."
   ]
  },
  {
   "cell_type": "markdown",
   "metadata": {},
   "source": [
    "We find that:\n",
    "\n",
    "  - Implied volatility spreads for in-the-money options are much wider then out-of-the money option spreads; this is because options are typically traded as protection at out-of-the-money strikes.\n",
    "  - Around ATM, bid (and ask) volatilities for calls and puts match reasonably well; there are no arbitrage opportunities arising from put-call parity."
   ]
  }
 ],
 "metadata": {
  "interpreter": {
   "hash": "af98fb13c0682ca4fe3350401d42f2a404b34a8b53a566210d6d775d501366cd"
  },
  "kernelspec": {
   "display_name": "Python 3",
   "language": "python",
   "name": "python3"
  },
  "language_info": {
   "codemirror_mode": {
    "name": "ipython",
    "version": 3
   },
   "file_extension": ".py",
   "mimetype": "text/x-python",
   "name": "python",
   "nbconvert_exporter": "python",
   "pygments_lexer": "ipython3",
   "version": "3.7.9"
  }
 },
 "nbformat": 4,
 "nbformat_minor": 2
}
