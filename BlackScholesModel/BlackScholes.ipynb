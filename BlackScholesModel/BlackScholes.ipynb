{
 "cells": [
  {
   "cell_type": "markdown",
   "source": [
    "# Black Scholes Model\r\n",
    "\r\n",
    "In this notebook we illustrate the basic properties of the Black Scholes model.\r\n",
    "\r\n",
    "The notebook is structured as follows:\r\n",
    "\r\n",
    "  1. Black-Scholes model code\r\n",
    "  2. Analysis of value function\r\n",
    "  3. Analysis of Greeks, i.e. sensitivities to model parameters"
   ],
   "metadata": {}
  },
  {
   "cell_type": "markdown",
   "source": [
    "## Black-Scholes Model Code\r\n",
    "\r\n",
    "We use a couple of standard Python modules."
   ],
   "metadata": {}
  },
  {
   "cell_type": "code",
   "execution_count": null,
   "source": [
    "import numpy as np\r\n",
    "from scipy.stats import norm\r\n",
    "from scipy.optimize import brentq\r\n",
    "import plotly.express as px\r\n",
    "import plotly.graph_objects as go"
   ],
   "outputs": [],
   "metadata": {}
  },
  {
   "cell_type": "markdown",
   "source": [
    "As a basic building block we implement the Black formula.\r\n",
    "\r\n",
    "$$\r\n",
    "\\begin{aligned}\r\n",
    "    \\text{Black}\\left(F,K,\\nu,\\phi\\right) &=\\phi\\,\\left[F\\,\\Phi\\left(\\phi d_{1}\\right)-K\\,\\Phi\\left(\\phi d_{2}\\right)\\right],\\\\\r\n",
    "    d_{1,2}&=\\frac{\\log\\left(F/K\\right)}{\\nu}\\pm\\frac{\\nu}{2}.\r\n",
    "\\end{aligned}\r\n",
    "$$"
   ],
   "metadata": {}
  },
  {
   "cell_type": "code",
   "execution_count": null,
   "source": [
    "\r\n",
    "\r\n",
    "def BlackOverK(moneyness, nu, callOrPut):\r\n",
    "    d1 = np.log(moneyness) / nu + nu / 2.0\r\n",
    "    d2 = d1 - nu\r\n",
    "    return callOrPut * (moneyness*norm.cdf(callOrPut*d1)-norm.cdf(callOrPut*d2))\r\n",
    "\r\n",
    "def Black(forward, strike, nu, callOrPut):\r\n",
    "    if nu<1.0e-12:   # assume zero\r\n",
    "        return np.maximum(callOrPut*(forward-strike),0.0)  # intrinsic value\r\n",
    "    return strike * BlackOverK(forward/strike,nu,callOrPut)\r\n",
    "\r\n",
    "def BlackImpliedVol(price, strike, forward, T, callOrPut):\r\n",
    "    def objective(nu):\r\n",
    "        return Black(forward, strike, nu, callOrPut) - price\r\n",
    "    return brentq(objective,0.01*np.sqrt(T), 1.00*np.sqrt(T), xtol=1.0e-8) / np.sqrt(T)\r\n",
    "\r\n",
    "def BlackVega(strike, forward, sigma, T):\r\n",
    "    stdDev = sigma*np.sqrt(T)\r\n",
    "    d1 = np.log(forward/strike) / stdDev + stdDev / 2.0    \r\n",
    "    return forward * norm.pdf(d1) * np.sqrt(T)\r\n"
   ],
   "outputs": [],
   "metadata": {}
  },
  {
   "cell_type": "markdown",
   "source": [
    "## Analysis of Value Function\r\n",
    "\r\n",
    "$$\r\n",
    "  v(s,T) = e^{-rT}\\,\\text{Black}\\left(s\\,e^{rT},K,\\sigma\\sqrt{T},\\phi\\right),\r\n",
    "$$"
   ],
   "metadata": {}
  },
  {
   "cell_type": "code",
   "execution_count": null,
   "source": [
    "def BlackScholesPrice(underlying, strike, rate, sigma, T, callOrPut):\r\n",
    "    df = np.exp(-rate*T)\r\n",
    "    nu = sigma*np.sqrt(T)\r\n",
    "    return df * Black(underlying/df, strike, nu, callOrPut)"
   ],
   "outputs": [],
   "metadata": {}
  },
  {
   "cell_type": "markdown",
   "source": [
    "We need to specify some sensible model and product parameters."
   ],
   "metadata": {}
  },
  {
   "cell_type": "code",
   "execution_count": null,
   "source": [
    "r     = 0.01  # 1% risk-free rate is a sensible choice in current low-interest rate market environment\r\n",
    "sigma = 0.15  # typical values for annualised equity volatility is between 10% - 25%\r\n",
    "K     = 1.0   # the strike should be in the order of the underlying asset; we will assume S~O(1)\r\n",
    "phi   = 1.0   # call or put"
   ],
   "outputs": [],
   "metadata": {}
  },
  {
   "cell_type": "markdown",
   "source": [
    "We want to see the value function for a grid of maturities $[0,T_{end}]$ and underlying risky asset prices $(0, S_{max}]$."
   ],
   "metadata": {}
  },
  {
   "cell_type": "code",
   "execution_count": null,
   "source": [
    "T = np.linspace(0.0, 2.0, 201)\r\n",
    "S = np.linspace(0.01, 2.0, 200)"
   ],
   "outputs": [],
   "metadata": {}
  },
  {
   "cell_type": "markdown",
   "source": [
    "Now, we can calculate the call option prices."
   ],
   "metadata": {}
  },
  {
   "cell_type": "code",
   "execution_count": null,
   "source": [
    "v = lambda s, t : BlackScholesPrice(s, K, r, sigma, t, phi)\r\n",
    "v_sT = np.array([ v(S,t) for t in T ]).transpose()\r\n",
    "print(v_sT.shape)"
   ],
   "outputs": [],
   "metadata": {}
  },
  {
   "cell_type": "code",
   "execution_count": null,
   "source": [
    "fig = go.Figure(data=[go.Surface(x=T, y=S, z=v_sT)])\r\n",
    "fig.update_layout(\r\n",
    "    title='Black-Scholes Value Function',\r\n",
    "    scene = dict(\r\n",
    "        xaxis = dict(\r\n",
    "            title = 'T',\r\n",
    "        ),\r\n",
    "        yaxis = dict(\r\n",
    "            title = 's',\r\n",
    "        ),\r\n",
    "        zaxis = dict(\r\n",
    "            title = 'v',\r\n",
    "        ),\r\n",
    "    ),\r\n",
    "    width=1200, height=800, autosize=False,\r\n",
    "    margin=dict(l=65, r=50, b=65, t=90),\r\n",
    ")\r\n",
    "fig.show()"
   ],
   "outputs": [],
   "metadata": {}
  },
  {
   "cell_type": "markdown",
   "source": [
    "## Analysis of Greeks\r\n",
    "\r\n",
    "Greeks represent sensitivities of the value function with respect to changes in the model parameters."
   ],
   "metadata": {}
  },
  {
   "cell_type": "markdown",
   "source": [
    "### Delta\r\n",
    "\r\n",
    "$$\r\n",
    "  \\Delta_{BS}(s,T)=\\frac{d}{ds}v(s,T) = \\phi\\,\\Phi\\left(\\phi d_{1}\\right).\r\n",
    "$$"
   ],
   "metadata": {}
  },
  {
   "cell_type": "code",
   "execution_count": null,
   "source": [
    "def BlackScholesDelta(underlying, strike, rate, sigma, T, callOrPut):\r\n",
    "    moneyness = np.exp(rate*T) * underlying / strike\r\n",
    "    nu = sigma * np.sqrt(T)\r\n",
    "    d1 = np.log(moneyness) / nu + nu / 2.0\r\n",
    "    return callOrPut * norm.cdf(callOrPut * d1)"
   ],
   "outputs": [],
   "metadata": {}
  },
  {
   "cell_type": "markdown",
   "source": [
    "We calculate the Delta for a range of underlyings and times."
   ],
   "metadata": {}
  },
  {
   "cell_type": "code",
   "execution_count": null,
   "source": [
    "T = np.linspace(0.01, 2.0, 200)\r\n",
    "S = np.linspace(0.01, 2.0, 200)\r\n",
    "Delta = lambda s, t : BlackScholesDelta(s, K, r, sigma, t, phi)\r\n",
    "dv_ds = np.array([ Delta(S,t) for t in T ]).transpose()\r\n",
    "print(dv_ds.shape)\r\n"
   ],
   "outputs": [],
   "metadata": {}
  },
  {
   "cell_type": "code",
   "execution_count": null,
   "source": [
    "# Check Delta via finite differences\r\n",
    "eps = 1.0e-4\r\n",
    "Delta_FD = lambda s, t : (BlackScholesPrice(s+eps, K, r, sigma, t, phi) - BlackScholesPrice(s-eps, K, r, sigma, t, phi))/2/eps\r\n",
    "dv_ds_FD = np.array([ Delta_FD(S,t) for t in T ]).transpose()\r\n",
    "print(np.max(np.abs(dv_ds-dv_ds_FD)))"
   ],
   "outputs": [],
   "metadata": {}
  },
  {
   "cell_type": "markdown",
   "source": [
    "And we plot the resulting sensitivity."
   ],
   "metadata": {}
  },
  {
   "cell_type": "code",
   "execution_count": null,
   "source": [
    "fig = go.Figure(data=[go.Surface(x=T, y=S, z=dv_ds)])\r\n",
    "fig.update_layout(\r\n",
    "    title='Black-Scholes Delta',\r\n",
    "    scene = dict(\r\n",
    "        xaxis = dict(\r\n",
    "            title = 'T',\r\n",
    "        ),\r\n",
    "        yaxis = dict(\r\n",
    "            title = 's',\r\n",
    "        ),\r\n",
    "        zaxis = dict(\r\n",
    "            title = 'Delta',\r\n",
    "        ),\r\n",
    "    ),\r\n",
    "    width=1200, height=800, autosize=False,\r\n",
    "    margin=dict(l=65, r=50, b=65, t=90),\r\n",
    ")\r\n",
    "fig.show()"
   ],
   "outputs": [],
   "metadata": {}
  },
  {
   "cell_type": "markdown",
   "source": [
    "### Gamma\r\n",
    "\r\n",
    "$$\r\n",
    "  \\Gamma_{BS} = \\frac{d}{ds}\\Delta_{BS}(s,T)=\\frac{d^{2}}{ds^{2}}v(s,T) = \\frac{\\Phi'\\left(d_{1}\\right)}{s\\,\\sigma\\sqrt{T}}.\r\n",
    "$$"
   ],
   "metadata": {}
  },
  {
   "cell_type": "code",
   "execution_count": null,
   "source": [
    "def BlackScholesGamma(underlying, strike, rate, sigma, T, callOrPut):\r\n",
    "    moneyness = np.exp(rate*T) * underlying / strike\r\n",
    "    nu = sigma * np.sqrt(T)\r\n",
    "    d1 = np.log(moneyness) / nu + nu / 2.0\r\n",
    "    return norm.pdf(d1) / underlying / nu"
   ],
   "outputs": [],
   "metadata": {}
  },
  {
   "cell_type": "markdown",
   "source": [
    "We calculate the Gamma for a range of underlyings and times."
   ],
   "metadata": {}
  },
  {
   "cell_type": "code",
   "execution_count": null,
   "source": [
    "T = np.linspace(0.1, 2.0, 200)\r\n",
    "S = np.linspace(0.01, 2.0, 200)\r\n",
    "Gamma = lambda s, t : BlackScholesGamma(s, K, r, sigma, t, phi)\r\n",
    "d2v_ds2 = np.array([ Gamma(S,t) for t in T ]).transpose()\r\n",
    "print(d2v_ds2.shape)\r\n"
   ],
   "outputs": [],
   "metadata": {}
  },
  {
   "cell_type": "code",
   "execution_count": null,
   "source": [
    "# Check Gamma via finite differences\r\n",
    "eps = 1.0e-4\r\n",
    "Gamma_FD = lambda s, t : (BlackScholesPrice(s+eps, K, r, sigma, t, phi) - 2 * BlackScholesPrice(s, K, r, sigma, t, phi) + BlackScholesPrice(s-eps, K, r, sigma, t, phi))/eps**2\r\n",
    "d2v_ds2_FD = np.array([ Gamma_FD(S,t) for t in T ]).transpose()\r\n",
    "print(np.max(np.abs(d2v_ds2 - d2v_ds2_FD)))"
   ],
   "outputs": [],
   "metadata": {}
  },
  {
   "cell_type": "code",
   "execution_count": null,
   "source": [
    "fig = go.Figure(data=[go.Surface(x=T, y=S, z=d2v_ds2)])\r\n",
    "fig.update_layout(\r\n",
    "    title='Black-Scholes Gamma',\r\n",
    "    scene = dict(\r\n",
    "        xaxis = dict(\r\n",
    "            title = 'T',\r\n",
    "        ),\r\n",
    "        yaxis = dict(\r\n",
    "            title = 's',\r\n",
    "        ),\r\n",
    "        zaxis = dict(\r\n",
    "            title = 'Gamma',\r\n",
    "        ),\r\n",
    "    ),\r\n",
    "    width=1200, height=800, autosize=False,\r\n",
    "    margin=dict(l=65, r=50, b=65, t=90),\r\n",
    ")\r\n",
    "fig.show()"
   ],
   "outputs": [],
   "metadata": {}
  },
  {
   "cell_type": "markdown",
   "source": [
    "### Theta\r\n",
    "\r\n",
    "$$\r\n",
    "  \\Theta_{BS}(s,T)=\\frac{d}{dT}v(s,T) = \\frac{s\\,\\Phi'\\left(d_{1}\\right)\\,\\sigma}{2\\,\\sqrt{T}}+\\phi\\,r\\,K\\,e^{-rT}\\,\\Phi\\left(\\phi d_{2}\\right)\r\n",
    "$$"
   ],
   "metadata": {}
  },
  {
   "cell_type": "code",
   "execution_count": null,
   "source": [
    "def BlackScholesTheta(underlying, strike, rate, sigma, T, callOrPut):\r\n",
    "    moneyness = np.exp(rate*T) * underlying / strike\r\n",
    "    nu = sigma * np.sqrt(T)\r\n",
    "    d1 = np.log(moneyness) / nu + nu / 2.0\r\n",
    "    d2 = d1 - nu\r\n",
    "    return underlying * norm.pdf(d1) * sigma / 2 / np.sqrt(T) + \\\r\n",
    "        callOrPut * rate * strike * np.exp(-rate*T) * norm.cdf(callOrPut * d2)"
   ],
   "outputs": [],
   "metadata": {}
  },
  {
   "cell_type": "markdown",
   "source": [
    "We calculate the Theta for a range of underlyings and times."
   ],
   "metadata": {}
  },
  {
   "cell_type": "code",
   "execution_count": null,
   "source": [
    "T = np.linspace(0.1, 2.0, 200)\r\n",
    "S = np.linspace(0.01, 2.0, 200)\r\n",
    "Theta = lambda s, t : BlackScholesTheta(s, K, r, sigma, t, phi)\r\n",
    "dv_dT = np.array([ Theta(S,t) for t in T ]).transpose()\r\n",
    "print(dv_dT.shape)"
   ],
   "outputs": [],
   "metadata": {}
  },
  {
   "cell_type": "code",
   "execution_count": null,
   "source": [
    "# Check Theta via finite differences\r\n",
    "eps = 1.0e-4\r\n",
    "Theta_FD = lambda s, t : (BlackScholesPrice(s, K, r, sigma, t+eps, phi) - BlackScholesPrice(s, K, r, sigma, t-eps, phi))/2/eps\r\n",
    "dv_dT_FD = np.array([ Theta_FD(S,t) for t in T ]).transpose()\r\n",
    "print(np.max(np.abs(dv_dT - dv_dT_FD)))"
   ],
   "outputs": [],
   "metadata": {}
  },
  {
   "cell_type": "code",
   "execution_count": null,
   "source": [
    "fig = go.Figure(data=[go.Surface(x=T, y=S, z=dv_dT)])\r\n",
    "fig.update_layout(\r\n",
    "    title='Black-Scholes Theta',\r\n",
    "    scene = dict(\r\n",
    "        xaxis = dict(\r\n",
    "            title = 'T',\r\n",
    "        ),\r\n",
    "        yaxis = dict(\r\n",
    "            title = 's',\r\n",
    "        ),\r\n",
    "        zaxis = dict(\r\n",
    "            title = 'Theta',\r\n",
    "        ),\r\n",
    "    ),\r\n",
    "    width=1200, height=800, autosize=False,\r\n",
    "    margin=dict(l=65, r=50, b=65, t=90),\r\n",
    ")\r\n",
    "fig.show()"
   ],
   "outputs": [],
   "metadata": {}
  },
  {
   "cell_type": "markdown",
   "source": [
    "### Black-Scholes PDE\r\n",
    "\r\n",
    "We calculate the linear operator\r\n",
    "$$\r\n",
    "  {\\cal L}\\left[v\\right]=-\\frac{dv}{dT}+r\\,s\\,\\frac{dv}{ds}+\\frac{1}{2}\\,\\sigma^{2}\\,s^{2}\\,\\frac{d^{2}v}{ds^{2}}-r\\,v.\r\n",
    "$$\r\n",
    "And verify that ${\\cal L}\\left[v\\right]=0$."
   ],
   "metadata": {}
  },
  {
   "cell_type": "code",
   "execution_count": null,
   "source": [
    "T = np.linspace(0.1, 2.0, 200)\r\n",
    "S = np.linspace(0.01, 2.0, 200)\r\n",
    "L_v = lambda s, T : -Theta(s,T) + r * s * Delta(s,T) + 0.5 * sigma**2 * s**2 * Gamma(s,T) - r * v(s,T)\r\n",
    "L_v_sT = np.array([ L_v(S,t) for t in T ]).transpose()\r\n",
    "print(L_v_sT.shape)"
   ],
   "outputs": [],
   "metadata": {}
  },
  {
   "cell_type": "code",
   "execution_count": null,
   "source": [
    "fig = go.Figure(data=[go.Surface(x=T, y=S, z=L_v_sT)])\r\n",
    "fig.update_layout(\r\n",
    "    title='Black-Scholes Operator',\r\n",
    "    scene = dict(\r\n",
    "        xaxis = dict(\r\n",
    "            title = 'T',\r\n",
    "        ),\r\n",
    "        yaxis = dict(\r\n",
    "            title = 's',\r\n",
    "        ),\r\n",
    "        zaxis = dict(\r\n",
    "            title = 'L[v]',\r\n",
    "        ),\r\n",
    "    ),\r\n",
    "    width=1200, height=800, autosize=False,\r\n",
    "    margin=dict(l=65, r=50, b=65, t=90),\r\n",
    ")\r\n",
    "fig.show()"
   ],
   "outputs": [],
   "metadata": {}
  },
  {
   "cell_type": "markdown",
   "source": [
    "### Rho\r\n",
    "\r\n",
    "$$\r\n",
    "  \\varrho_{BS}(s,T)=\\frac{d}{dr}v(s,T) = \\phi\\,K\\,T\\,e^{-rT}\\,\\Phi\\left(\\phi d_{2}\\right).\r\n",
    "$$"
   ],
   "metadata": {}
  },
  {
   "cell_type": "code",
   "execution_count": null,
   "source": [
    "def BlackScholesRho(underlying, strike, rate, sigma, T, callOrPut):\r\n",
    "    moneyness = np.exp(rate*T) * underlying / strike\r\n",
    "    nu = sigma * np.sqrt(T)\r\n",
    "    d1 = np.log(moneyness) / nu + nu / 2.0\r\n",
    "    d2 = d1 - nu\r\n",
    "    return callOrPut * strike * T * np.exp(-rate*T) * norm.cdf(callOrPut * d2)"
   ],
   "outputs": [],
   "metadata": {}
  },
  {
   "cell_type": "markdown",
   "source": [
    "We calculate the Theta for a range of underlyings and times."
   ],
   "metadata": {}
  },
  {
   "cell_type": "code",
   "execution_count": null,
   "source": [
    "T = np.linspace(0.01, 2.0, 200)\r\n",
    "S = np.linspace(0.01, 2.0, 200)\r\n",
    "Rho = lambda s, t : BlackScholesRho(s, K, r, sigma, t, phi)\r\n",
    "dv_dr = np.array([ Rho(S,t) for t in T ]).transpose()\r\n",
    "print(dv_dr.shape)"
   ],
   "outputs": [],
   "metadata": {}
  },
  {
   "cell_type": "code",
   "execution_count": null,
   "source": [
    "# Check Rho via finite differences\r\n",
    "eps = 1.0e-6\r\n",
    "Rho_FD = lambda s, t : (BlackScholesPrice(s, K, r+eps, sigma, t, phi) - BlackScholesPrice(s, K, r-eps, sigma, t, phi))/2/eps\r\n",
    "dv_dr_FD = np.array([ Rho_FD(S,t) for t in T ]).transpose()\r\n",
    "print(np.max(np.abs(dv_dr - dv_dr_FD)))"
   ],
   "outputs": [],
   "metadata": {}
  },
  {
   "cell_type": "code",
   "execution_count": null,
   "source": [
    "fig = go.Figure(data=[go.Surface(x=T, y=S, z=dv_dr)])\r\n",
    "fig.update_layout(\r\n",
    "    title='Black-Scholes Rho',\r\n",
    "    scene = dict(\r\n",
    "        xaxis = dict(\r\n",
    "            title = 'T',\r\n",
    "        ),\r\n",
    "        yaxis = dict(\r\n",
    "            title = 's',\r\n",
    "        ),\r\n",
    "        zaxis = dict(\r\n",
    "            title = 'Rho',\r\n",
    "        ),\r\n",
    "    ),\r\n",
    "    width=1200, height=800, autosize=False,\r\n",
    "    margin=dict(l=65, r=50, b=65, t=90),\r\n",
    ")\r\n",
    "fig.show()"
   ],
   "outputs": [],
   "metadata": {}
  },
  {
   "cell_type": "markdown",
   "source": [
    "### Vega\r\n",
    "\r\n",
    "$$\r\n",
    "  \\text{Vega}_{BS}(s,T)=\\frac{d}{d\\sigma}v(s,T) = s\\,\\Phi'\\left(d_{1}\\right)\\sqrt{T}\r\n",
    "$$"
   ],
   "metadata": {}
  },
  {
   "cell_type": "code",
   "execution_count": null,
   "source": [
    "def BlackScholesVega(underlying, strike, rate, sigma, T, callOrPut):\r\n",
    "    moneyness = np.exp(rate*T) * underlying / strike\r\n",
    "    nu = sigma * np.sqrt(T)\r\n",
    "    d1 = np.log(moneyness) / nu + nu / 2.0\r\n",
    "    return underlying * norm.pdf(d1) * np.sqrt(T)"
   ],
   "outputs": [],
   "metadata": {}
  },
  {
   "cell_type": "markdown",
   "source": [
    "We calculate the Theta for a range of underlyings and times."
   ],
   "metadata": {}
  },
  {
   "cell_type": "code",
   "execution_count": null,
   "source": [
    "T = np.linspace(0.01, 2.0, 200)\r\n",
    "S = np.linspace(0.01, 2.0, 200)\r\n",
    "Vega = lambda s, t : BlackScholesVega(s, K, r, sigma, t, phi)\r\n",
    "dv_dsigma = np.array([ Vega(S,t) for t in T ]).transpose()\r\n",
    "print(dv_dr.shape)"
   ],
   "outputs": [],
   "metadata": {}
  },
  {
   "cell_type": "code",
   "execution_count": null,
   "source": [
    "# Check Vega via finite differences\r\n",
    "eps = 1.0e-6\r\n",
    "Vega_FD = lambda s, t : (BlackScholesPrice(s, K, r, sigma+eps, t, phi) - BlackScholesPrice(s, K, r, sigma-eps, t, phi))/2/eps\r\n",
    "dv_dsigma_FD = np.array([ Vega_FD(S,t) for t in T ]).transpose()\r\n",
    "print(np.max(np.abs(dv_dsigma - dv_dsigma_FD)))"
   ],
   "outputs": [],
   "metadata": {}
  },
  {
   "cell_type": "code",
   "execution_count": null,
   "source": [
    "fig = go.Figure(data=[go.Surface(x=T, y=S, z=dv_dsigma)])\r\n",
    "fig.update_layout(\r\n",
    "    title='Black-Scholes Vega',\r\n",
    "    scene = dict(\r\n",
    "        xaxis = dict(\r\n",
    "            title = 'T',\r\n",
    "        ),\r\n",
    "        yaxis = dict(\r\n",
    "            title = 's',\r\n",
    "        ),\r\n",
    "        zaxis = dict(\r\n",
    "            title = 'Vega',\r\n",
    "        ),\r\n",
    "    ),\r\n",
    "    width=1200, height=800, autosize=False,\r\n",
    "    margin=dict(l=65, r=50, b=65, t=90),\r\n",
    ")\r\n",
    "fig.show()"
   ],
   "outputs": [],
   "metadata": {}
  },
  {
   "cell_type": "markdown",
   "source": [
    "# Implied Volatility Analysis\r\n",
    "\r\n",
    "We add an analysis of market-implied volatilities."
   ],
   "metadata": {}
  },
  {
   "cell_type": "code",
   "execution_count": null,
   "source": [
    "S0 = 1.0  # initial asset price\r\n",
    "T  = 1.4\r\n",
    "\r\n",
    "putStrikes  = [ 0.60,   0.70,   0.80,   0.90,   1.00   ]\r\n",
    "putPrices   = [ 0.0642, 0.0943, 0.1310, 0.1761, 0.2286 ]\r\n",
    "\r\n",
    "callStrikes = [ 1.00,   1.10,   1.20,   1.30,   1.40   ]\r\n",
    "callPrices  = [ 0.2204, 0.1788, 0.1444, 0.1157, 0.0929 ]"
   ],
   "outputs": [],
   "metadata": {}
  },
  {
   "cell_type": "markdown",
   "source": [
    "We can use strike $K=1$ and put-call parity to calculate the implied risk-free rate $r$,\r\n",
    "$$\r\n",
    "  r = -\\frac{\\log\\left(1+\\pi_{BS}\\left(C^{put}\\right)-\\pi_{BS}\\left(C^{call}\\right)\\right)}{T}\r\n",
    "$$\r\n"
   ],
   "metadata": {}
  },
  {
   "cell_type": "code",
   "execution_count": null,
   "source": [
    "r = - np.log(1 + putPrices[-1] - callPrices[0])/T\r\n",
    "r"
   ],
   "outputs": [],
   "metadata": {}
  },
  {
   "cell_type": "code",
   "execution_count": null,
   "source": [],
   "outputs": [],
   "metadata": {}
  },
  {
   "cell_type": "markdown",
   "source": [
    "Next, we can calculate implied volatilities for puts and calls."
   ],
   "metadata": {}
  },
  {
   "cell_type": "code",
   "execution_count": null,
   "source": [
    "F = np.exp(r*T) * S0\r\n",
    "\r\n",
    "putFwdPrices  = [ np.exp(r*T)*p for p in putPrices  ]\r\n",
    "callFwdPrices = [ np.exp(r*T)*p for p in callPrices ]\r\n",
    "\r\n",
    "putVols  = [ BlackImpliedVol(p,K,F,T,-1) for p, K in zip(putFwdPrices, putStrikes)  ]\r\n",
    "callVols = [ BlackImpliedVol(p,K,F,T,+1) for p, K in zip(callFwdPrices,callStrikes) ]\r\n",
    "\r\n",
    "print(putVols[-1])\r\n",
    "print(callVols[0])"
   ],
   "outputs": [],
   "metadata": {}
  },
  {
   "cell_type": "code",
   "execution_count": null,
   "source": [
    "sigma = 0.5 * (putVols[-1] + callVols[0])"
   ],
   "outputs": [],
   "metadata": {}
  },
  {
   "cell_type": "markdown",
   "source": [
    "We calculate the corresponding Black-Scholes model prices."
   ],
   "metadata": {}
  },
  {
   "cell_type": "code",
   "execution_count": null,
   "source": [
    "bsPut  = [ BlackScholesPrice(S0,K,r,sigma,T,-1) for K in putStrikes  ]\r\n",
    "bsCall = [ BlackScholesPrice(S0,K,r,sigma,T,+1) for K in callStrikes ]\r\n",
    "\r\n",
    "print('Puts:')\r\n",
    "for K, P in zip(putStrikes,bsPut):\r\n",
    "    print('  %4.2f  %6.4f' % (K,P))\r\n",
    "print('Calls:')\r\n",
    "for K, P in zip(callStrikes,bsCall):\r\n",
    "    print('  %4.2f  %6.4f' % (K,P))"
   ],
   "outputs": [],
   "metadata": {}
  },
  {
   "cell_type": "markdown",
   "source": [
    "Also, we plot the resulting impled volatility smile"
   ],
   "metadata": {}
  },
  {
   "cell_type": "code",
   "execution_count": null,
   "source": [
    "fig = go.Figure()\r\n",
    "fig.add_trace(go.Scatter(x=putStrikes, y=putVols,   name='put' ))\r\n",
    "fig.add_trace(go.Scatter(x=callStrikes, y=callVols, name='call'))\r\n",
    "fig.update_layout(\r\n",
    "    title='Implied Black-Scholes Volatility, T=%.2f' % T,\r\n",
    "    xaxis_title=\"Strike K\",\r\n",
    "    yaxis_title=\"Implied Volatility\",\r\n",
    "    width=1200, height=800, autosize=False,\r\n",
    "    margin=dict(l=65, r=50, b=65, t=90),\r\n",
    ")\r\n",
    "\r\n",
    "fig.show()"
   ],
   "outputs": [],
   "metadata": {}
  }
 ],
 "metadata": {
  "orig_nbformat": 4,
  "language_info": {
   "name": "python",
   "version": "3.7.9",
   "mimetype": "text/x-python",
   "codemirror_mode": {
    "name": "ipython",
    "version": 3
   },
   "pygments_lexer": "ipython3",
   "nbconvert_exporter": "python",
   "file_extension": ".py"
  },
  "kernelspec": {
   "name": "python3",
   "display_name": "Python 3.7.9 64-bit ('Python3.7': conda)"
  },
  "interpreter": {
   "hash": "af98fb13c0682ca4fe3350401d42f2a404b34a8b53a566210d6d775d501366cd"
  }
 },
 "nbformat": 4,
 "nbformat_minor": 2
}