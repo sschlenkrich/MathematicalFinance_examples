{
 "cells": [
  {
   "cell_type": "markdown",
   "metadata": {},
   "source": [
    "# European Option Pricing with QuantLib\n",
    "\n",
    "In this notebook we illustrate simple option pricing with QuantLib.\n",
    "\n",
    "The notebook is structured as follows:\n",
    "\n",
    "  1. Setup of market data and model\n",
    "\n",
    "  2. Pricing Vanilla options with CRR model and Black-Scholes model.\n",
    "\n",
    "  3. Pricing Barrier options with Black-Scholes model."
   ]
  },
  {
   "cell_type": "code",
   "execution_count": null,
   "metadata": {},
   "outputs": [],
   "source": [
    "import QuantLib as ql\n",
    "import numpy as np\n",
    "import pandas as pd\n",
    "import plotly.graph_objects as go"
   ]
  },
  {
   "cell_type": "markdown",
   "metadata": {},
   "source": [
    "## Market Data and Model Setup\n",
    "\n",
    "We set up simple constant term structures for risk-free rate and volatility. As inputs we use the parameters from our Black-Scholes example"
   ]
  },
  {
   "cell_type": "code",
   "execution_count": null,
   "metadata": {},
   "outputs": [],
   "source": [
    "r = -0.0058\n",
    "sigma = 0.48\n",
    "S0 = 1.0"
   ]
  },
  {
   "cell_type": "markdown",
   "metadata": {},
   "source": [
    "### YieldTermStructure"
   ]
  },
  {
   "cell_type": "code",
   "execution_count": null,
   "metadata": {},
   "outputs": [],
   "source": [
    "discountYts  = ql.FlatForward(0, ql.NullCalendar(), r, ql.Actual365Fixed())\n",
    "discountYtsH = ql.YieldTermStructureHandle(discountYts)"
   ]
  },
  {
   "cell_type": "markdown",
   "metadata": {},
   "source": [
    "### BlackVolTermStructure"
   ]
  },
  {
   "cell_type": "code",
   "execution_count": null,
   "metadata": {},
   "outputs": [],
   "source": [
    "volTs  = ql.BlackConstantVol(0, ql.NullCalendar(), sigma, ql.Actual365Fixed())\n",
    "volTsH = ql.BlackVolTermStructureHandle(volTs)"
   ]
  },
  {
   "cell_type": "markdown",
   "metadata": {},
   "source": [
    "### BlackScholesProcess"
   ]
  },
  {
   "cell_type": "code",
   "execution_count": null,
   "metadata": {},
   "outputs": [],
   "source": [
    "asset = ql.QuoteHandle(ql.SimpleQuote(S0))\n",
    "process = ql.BlackScholesProcess(asset, discountYtsH, volTsH)"
   ]
  },
  {
   "cell_type": "markdown",
   "metadata": {},
   "source": [
    "## Vanilla Option Pricing\n",
    "\n",
    "### Day Count Convention, Model Times and Option Exercise\n",
    "\n",
    "In QuantLib instrument properties relating to times are specified in actual dates. In order to translate dates into model times $T$, *day count conventions* are used.\n",
    "\n",
    "A day count convention is a metric on calender dates. A general calculation formula for a time difference or year fraction $YF$ is\n",
    "$$\n",
    "  YF = \\frac{\\text{\\# days between dates}}{\\text{\\# days per year}}.\n",
    "$$\n",
    "There are various market conventions for how to calculate the numerator and denominator. We use the *Actual/365 (Fixed)* day count convention which divides the difference in actual calender days by $365$.\n",
    "\n",
    "As base date for valuation we take today."
   ]
  },
  {
   "cell_type": "code",
   "execution_count": null,
   "metadata": {},
   "outputs": [],
   "source": [
    "today = ql.Settings.getEvaluationDate(ql.Settings.instance())\n",
    "print(today)"
   ]
  },
  {
   "cell_type": "markdown",
   "metadata": {},
   "source": [
    "In our earlier example we assumed a time to expiry of $T=1.4$. We interpret this duration using the Actual/365 (Fixed) day count convention."
   ]
  },
  {
   "cell_type": "code",
   "execution_count": null,
   "metadata": {},
   "outputs": [],
   "source": [
    "T = 1.4\n",
    "\n",
    "numberOfDays = int(np.round(T * 365))\n",
    "numberOfDays"
   ]
  },
  {
   "cell_type": "markdown",
   "metadata": {},
   "source": [
    "Now we can calculate the option expiry date."
   ]
  },
  {
   "cell_type": "code",
   "execution_count": null,
   "metadata": {},
   "outputs": [],
   "source": [
    "expiryDate = today + numberOfDays\n",
    "print(expiryDate)"
   ]
  },
  {
   "cell_type": "markdown",
   "metadata": {},
   "source": [
    "With the expiry date we can now specify a European exercise event."
   ]
  },
  {
   "cell_type": "code",
   "execution_count": null,
   "metadata": {},
   "outputs": [],
   "source": [
    "exercise = ql.EuropeanExercise(expiryDate)"
   ]
  },
  {
   "cell_type": "markdown",
   "metadata": {},
   "source": [
    "### Payoffs\n",
    "\n",
    "We use the same strikes as in our Black-Scholes example."
   ]
  },
  {
   "cell_type": "code",
   "execution_count": null,
   "metadata": {},
   "outputs": [],
   "source": [
    "putStrikes  = [ 0.60,   0.70,   0.80,   0.90,   1.00   ]\n",
    "callStrikes = [ 1.00,   1.10,   1.20,   1.30,   1.40   ]"
   ]
  },
  {
   "cell_type": "markdown",
   "metadata": {},
   "source": [
    "Payoffs are separate objects in QuantLib. "
   ]
  },
  {
   "cell_type": "code",
   "execution_count": null,
   "metadata": {},
   "outputs": [],
   "source": [
    "putPayoffs  = [ ql.PlainVanillaPayoff(ql.Option.Put,K)  for K in putStrikes  ]\n",
    "callPayoffs = [ ql.PlainVanillaPayoff(ql.Option.Call,K) for K in callStrikes ]"
   ]
  },
  {
   "cell_type": "markdown",
   "metadata": {},
   "source": [
    "### Instruments\n",
    "\n",
    "Exercise and payoff are combined to set up a Vanilla option."
   ]
  },
  {
   "cell_type": "code",
   "execution_count": null,
   "metadata": {},
   "outputs": [],
   "source": [
    "puts  = [ ql.EuropeanOption(p,exercise) for p in putPayoffs  ]\n",
    "calls = [ ql.EuropeanOption(p,exercise) for p in callPayoffs ]"
   ]
  },
  {
   "cell_type": "markdown",
   "metadata": {},
   "source": [
    "### Black-Scholes Pricing\n",
    "\n",
    "In order to price an instrument in QuantLib we need a *PricingEngine*. A PricingEngine specifies the model and valuation method and links it to the option instrument."
   ]
  },
  {
   "cell_type": "code",
   "execution_count": null,
   "metadata": {},
   "outputs": [],
   "source": [
    "bsEngine = ql.AnalyticEuropeanEngine(process)\n",
    "\n",
    "for i in puts + calls:\n",
    "    i.setPricingEngine(bsEngine)"
   ]
  },
  {
   "cell_type": "markdown",
   "metadata": {},
   "source": [
    "Now, we can ask the instrument for its price and sensitivities."
   ]
  },
  {
   "cell_type": "code",
   "execution_count": null,
   "metadata": {},
   "outputs": [],
   "source": [
    "putTableBS = pd.DataFrame(columns=('Strike', 'Price', 'Delta', 'Gamma', 'Theta', 'Rho', 'Vega'))\n",
    "for K, i in zip(putStrikes, puts):\n",
    "    res = ( K, i.NPV(), i.delta(), i.gamma(), i.theta(), i.rho(), i.vega() )\n",
    "    putTableBS = putTableBS.append({ c : v for c,v in zip(putTableBS.columns,res) }  , ignore_index=True)\n",
    "print('Puts:')\n",
    "print(putTableBS)\n",
    "\n",
    "callTableBS = pd.DataFrame(columns=('Strike', 'Price', 'Delta', 'Gamma', 'Theta', 'Rho', 'Vega'))\n",
    "for K, i in zip(callStrikes, calls):\n",
    "    res = ( K, i.NPV(), i.delta(), i.gamma(), i.theta(), i.rho(), i.vega() )\n",
    "    callTableBS = callTableBS.append({ c : v for c,v in zip(callTableBS.columns,res) }  , ignore_index=True)\n",
    "print('Calls:')\n",
    "print(callTableBS)\n"
   ]
  },
  {
   "cell_type": "markdown",
   "metadata": {},
   "source": [
    "### CRR Model Pricing\n",
    "\n",
    "In order to apply a CRR model we just need to setup a corresponding pricing engine.\n",
    "\n",
    "The critical parameter in the CRR model is the number of time steps $N$. This is an additional parameter to the PricingEngine."
   ]
  },
  {
   "cell_type": "code",
   "execution_count": null,
   "metadata": {},
   "outputs": [],
   "source": [
    "N = 3\n",
    "\n",
    "crrEngine = ql.BinomialCRRVanillaEngine(process, N)"
   ]
  },
  {
   "cell_type": "markdown",
   "metadata": {},
   "source": [
    "Now, we can link the new engine to the instruments and repeat pricing. Note that QuantLib's CRR engine does not implement Rho and Vega."
   ]
  },
  {
   "cell_type": "code",
   "execution_count": null,
   "metadata": {},
   "outputs": [],
   "source": [
    "for i in puts + calls:\n",
    "    i.setPricingEngine(crrEngine)"
   ]
  },
  {
   "cell_type": "code",
   "execution_count": null,
   "metadata": {},
   "outputs": [],
   "source": [
    "putTableCRR = pd.DataFrame(columns=('Strike', 'Price', 'Delta', 'Gamma', 'Theta'))\n",
    "for K, i in zip(putStrikes, puts):\n",
    "    res = ( K, i.NPV(), i.delta(), i.gamma(), i.theta() )\n",
    "    putTableCRR = putTableCRR.append({ c : v for c,v in zip(putTableCRR.columns,res) }  , ignore_index=True)\n",
    "print('Puts:')\n",
    "print(putTableCRR)\n",
    "\n",
    "callTableCRR = pd.DataFrame(columns=('Strike', 'Price', 'Delta', 'Gamma', 'Theta'))\n",
    "for K, i in zip(callStrikes, calls):\n",
    "    res = ( K, i.NPV(), i.delta(), i.gamma(), i.theta() )\n",
    "    callTableCRR = callTableCRR.append({ c : v for c,v in zip(callTableCRR.columns,res) }  , ignore_index=True)\n",
    "print('Calls:')\n",
    "print(callTableCRR)"
   ]
  },
  {
   "cell_type": "markdown",
   "metadata": {},
   "source": [
    "Finally, we can plot and compare the BS and CRR model results."
   ]
  },
  {
   "cell_type": "code",
   "execution_count": null,
   "metadata": {},
   "outputs": [],
   "source": [
    "def plotResults(resString):\n",
    "    fig = go.Figure()\n",
    "    fig.add_trace(go.Scatter(x=putStrikes,  y=putTableBS[resString],   name='put  BS',  line=dict(color='royalblue', dash=None) ))\n",
    "    fig.add_trace(go.Scatter(x=callStrikes, y=callTableBS[resString],  name='call BS',  line=dict(color='firebrick', dash=None) ))\n",
    "    fig.add_trace(go.Scatter(x=putStrikes,  y=putTableCRR[resString],  name='put  CRR', line=dict(color='royalblue', dash='dash') ))\n",
    "    fig.add_trace(go.Scatter(x=callStrikes, y=callTableCRR[resString], name='call CRR', line=dict(color='firebrick', dash='dash') ))\n",
    "    fig.update_layout(\n",
    "        title='Black-Scholes and CRR Model %s, T=%.2f' % (resString,T),\n",
    "        xaxis_title=\"Strike K\",\n",
    "        yaxis_title=resString,\n",
    "        width=600, height=400, autosize=False,\n",
    "        #margin=dict(l=65, r=50, b=65, t=90),\n",
    "    )\n",
    "    fig.show()\n",
    "    return\n",
    "\n",
    "plotResults('Price')\n",
    "plotResults('Delta')\n",
    "plotResults('Gamma')\n",
    "plotResults('Theta')"
   ]
  },
  {
   "cell_type": "markdown",
   "metadata": {},
   "source": [
    "## Barrier Option Pricing\n",
    "\n",
    "Barrier options are another instrument type in QuantLib.\n",
    "\n",
    "For a barrier option we need to specify the barrier type and barrier level. We choose to use down-and-out put (DOP) up-and-in calls (UIC). As put barrier level we set $B=0.5$ and as call barrier level we set $B=2.0$. "
   ]
  },
  {
   "cell_type": "code",
   "execution_count": null,
   "metadata": {},
   "outputs": [],
   "source": [
    "lowBarrier = 0.5\n",
    "upBarrier  = 2.0\n",
    "rebate     = 0.0 # we do not model rebate\n",
    "\n",
    "dop  = [ ql.BarrierOption(ql.Barrier.DownOut, lowBarrier, rebate, p, exercise) for p in putPayoffs  ]\n",
    "uic  = [ ql.BarrierOption(ql.Barrier.UpIn,    upBarrier,  rebate, p, exercise) for p in callPayoffs ]"
   ]
  },
  {
   "cell_type": "markdown",
   "metadata": {},
   "source": [
    "### Black-Scholes Pricing\n",
    "\n",
    "We use an AnalyticBarrierEngine to specify the model and pricing method."
   ]
  },
  {
   "cell_type": "code",
   "execution_count": null,
   "metadata": {},
   "outputs": [],
   "source": [
    "bsBarrierEngine = ql.AnalyticBarrierEngine(process)\n",
    "\n",
    "for i in dop + uic:\n",
    "    i.setPricingEngine(bsBarrierEngine)"
   ]
  },
  {
   "cell_type": "code",
   "execution_count": null,
   "metadata": {},
   "outputs": [],
   "source": [
    "barrierPutTableBS = pd.DataFrame(columns=('Strike', 'Price'))\n",
    "for K, i in zip(putStrikes, dop):\n",
    "    res = ( K, i.NPV() )\n",
    "    barrierPutTableBS = barrierPutTableBS.append({ c : v for c,v in zip(barrierPutTableBS.columns,res) }  , ignore_index=True)\n",
    "print('Barrier Puts:')\n",
    "print(barrierPutTableBS)\n",
    "\n",
    "barrierCallTableBS = pd.DataFrame(columns=('Strike', 'Price'))\n",
    "for K, i in zip(callStrikes, uic):\n",
    "    res = ( K, i.NPV() )\n",
    "    barrierCallTableBS = barrierCallTableBS.append({ c : v for c,v in zip(barrierCallTableBS.columns,res) }  , ignore_index=True)\n",
    "print('Barrier Calls:')\n",
    "print(barrierCallTableBS)"
   ]
  },
  {
   "cell_type": "markdown",
   "metadata": {},
   "source": [
    "### CRR Model Pricing\n",
    "\n",
    "We use a BinomialCRRBarrierEngine for barrier option pricing on a binomial tree."
   ]
  },
  {
   "cell_type": "code",
   "execution_count": null,
   "metadata": {},
   "outputs": [],
   "source": [
    "N = 3\n",
    "crrBarrierEngine = ql.BinomialCRRBarrierEngine(process, N)\n",
    "\n",
    "for i in dop + uic:\n",
    "    i.setPricingEngine(crrBarrierEngine)"
   ]
  },
  {
   "cell_type": "code",
   "execution_count": null,
   "metadata": {},
   "outputs": [],
   "source": [
    "barrierPutTableCRR = pd.DataFrame(columns=('Strike', 'Price'))\n",
    "for K, i in zip(putStrikes, dop):\n",
    "    res = ( K, i.NPV() )\n",
    "    barrierPutTableCRR = barrierPutTableCRR.append({ c : v for c,v in zip(barrierPutTableCRR.columns,res) }  , ignore_index=True)\n",
    "print('Barrier Puts:')\n",
    "print(barrierPutTableCRR)\n",
    "\n",
    "barrierCallTableCRR = pd.DataFrame(columns=('Strike', 'Price'))\n",
    "for K, i in zip(callStrikes, uic):\n",
    "    res = ( K, i.NPV() )\n",
    "    barrierCallTableCRR = barrierCallTableCRR.append({ c : v for c,v in zip(barrierCallTableCRR.columns,res) }  , ignore_index=True)\n",
    "print('Barrier Calls:')\n",
    "print(barrierCallTableCRR)"
   ]
  },
  {
   "cell_type": "markdown",
   "metadata": {},
   "source": [
    "Finally, we can compare CRR prices to BS prices."
   ]
  },
  {
   "cell_type": "code",
   "execution_count": null,
   "metadata": {},
   "outputs": [],
   "source": [
    "resString = 'Price'\n",
    "fig = go.Figure()\n",
    "fig.add_trace(go.Scatter(x=putStrikes,  y=barrierPutTableBS[resString],   name='DOP BS',  line=dict(color='royalblue', dash=None) ))\n",
    "fig.add_trace(go.Scatter(x=callStrikes, y=barrierCallTableBS[resString],  name='UIC BS',  line=dict(color='firebrick', dash=None) ))\n",
    "fig.add_trace(go.Scatter(x=putStrikes,  y=barrierPutTableCRR[resString],  name='DOP CRR', line=dict(color='royalblue', dash='dash') ))\n",
    "fig.add_trace(go.Scatter(x=callStrikes, y=barrierCallTableCRR[resString], name='UIC CRR', line=dict(color='firebrick', dash='dash') ))\n",
    "fig.update_layout(\n",
    "    title='Black-Scholes and CRR Model Barrier %s, T=%.2f, N=%d' % (resString,T,N),\n",
    "    xaxis_title=\"Strike K\",\n",
    "    yaxis_title=resString,\n",
    "    width=600, height=400, autosize=False,\n",
    "    #margin=dict(l=65, r=50, b=65, t=90),\n",
    ")\n",
    "fig.show()\n"
   ]
  }
 ],
 "metadata": {
  "interpreter": {
   "hash": "af98fb13c0682ca4fe3350401d42f2a404b34a8b53a566210d6d775d501366cd"
  },
  "kernelspec": {
   "display_name": "Python 3.7.9 64-bit ('Python3.7': conda)",
   "name": "python3"
  },
  "language_info": {
   "codemirror_mode": {
    "name": "ipython",
    "version": 3
   },
   "file_extension": ".py",
   "mimetype": "text/x-python",
   "name": "python",
   "nbconvert_exporter": "python",
   "pygments_lexer": "ipython3",
   "version": "3.7.9"
  },
  "orig_nbformat": 4
 },
 "nbformat": 4,
 "nbformat_minor": 2
}
